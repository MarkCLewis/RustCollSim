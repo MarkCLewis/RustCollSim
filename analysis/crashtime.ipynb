{
 "cells": [
  {
   "cell_type": "code",
   "execution_count": 17,
   "metadata": {},
   "outputs": [
    {
     "name": "stderr",
     "output_type": "stream",
     "text": [
      " 67%|██████▋   | 33/49 [01:09<03:04, 11.51s/it]"
     ]
    },
    {
     "name": "stdout",
     "output_type": "stream",
     "text": [
      "timeout at 66\n"
     ]
    },
    {
     "name": "stderr",
     "output_type": "stream",
     "text": [
      "100%|██████████| 49/49 [01:34<00:00,  1.93s/it]\n"
     ]
    }
   ],
   "source": [
    "'''\n",
    "Trying to figure out if there is a pattern to when stuff crashes.\n",
    "'''\n",
    "\n",
    "import subprocess\n",
    "import re\n",
    "import matplotlib.pyplot as plt\n",
    "from tqdm import tqdm\n",
    "\n",
    "data = []\n",
    "\n",
    "for i in tqdm(range(2, 100, 2)):\n",
    "    # print(i, 'prep to run sim', end=' ')\n",
    "    try:\n",
    "        s = subprocess.run(['cargo', 'run', '--release', '--', '--particles',\n",
    "                        str(i), '--no-warnings'], stderr=subprocess.PIPE, stdout=subprocess.DEVNULL, timeout=30)\n",
    "    except subprocess.TimeoutExpired:\n",
    "        print(f'timeout at {i}')\n",
    "        continue\n",
    "    msg = s.stderr.decode('utf-8')\n",
    "    # print(len(msg), end=' ')\n",
    "\n",
    "    match = re.search(r'next_sync_step: ([^\\n]+)\\n', msg)\n",
    "    # print('regex done', end=' ')\n",
    "\n",
    "    if match:\n",
    "        death_time = float(match.group(1))\n",
    "        data.append((i, death_time))\n",
    "        # print(';;;')\n",
    "\n",
    "\n",
    "particles, death_time = zip(*data)\n"
   ]
  },
  {
   "cell_type": "code",
   "execution_count": 19,
   "metadata": {},
   "outputs": [
    {
     "data": {
      "text/plain": [
       "<matplotlib.collections.PathCollection at 0x162c45050>"
      ]
     },
     "execution_count": 19,
     "metadata": {},
     "output_type": "execute_result"
    },
    {
     "data": {
      "image/png": "[encoded data removed]",
      "text/plain": [
       "<Figure size 640x480 with 1 Axes>"
      ]
     },
     "metadata": {},
     "output_type": "display_data"
    }
   ],
   "source": [
    "plt.scatter(particles, death_time)\n"
   ]
  }
 ],
 "metadata": {
  "kernelspec": {
   "display_name": "Python 3",
   "language": "python",
   "name": "python3"
  },
  "language_info": {
   "codemirror_mode": {
    "name": "ipython",
    "version": 3
   },
   "file_extension": ".py",
   "mimetype": "text/x-python",
   "name": "python",
   "nbconvert_exporter": "python",
   "pygments_lexer": "ipython3",
   "version": "3.11.1"
  },
  "orig_nbformat": 4
 },
 "nbformat": 4,
 "nbformat_minor": 2
}
